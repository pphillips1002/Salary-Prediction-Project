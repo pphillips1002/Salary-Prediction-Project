{
 "cells": [
  {
   "cell_type": "markdown",
   "metadata": {},
   "source": [
    "# Welcome to the Exploratory Data Analysis for my Salary Prediction Project!\n",
    "\n",
    "This is my first Data Science project from scratch, I used a web scraper tool (Selenium) to gather salary information on Computer Science related jobs across the country. The end goal is to create a model to be able to predict or estimate what a salary should be based on a set of parameters like location, title, job requirements, etc. In this part of the project we dive into the data to gather conclusions necessary to create a production model.\n",
    "\n",
    "**Author: Pierce Phillips**\n",
    "\n",
    "*Created on 05/06/2020*"
   ]
  },
  {
   "cell_type": "markdown",
   "metadata": {},
   "source": [
    "As always, let's start with some imports."
   ]
  },
  {
   "cell_type": "code",
   "execution_count": 2,
   "metadata": {},
   "outputs": [],
   "source": [
    "import pandas as pd\n",
    "import matplotlib.pyplot as plt\n",
    "import seaborn as sns"
   ]
  },
  {
   "cell_type": "markdown",
   "metadata": {},
   "source": [
    " Let's load in the data I have already cleaned in the previous step."
   ]
  },
  {
   "cell_type": "code",
   "execution_count": 3,
   "metadata": {},
   "outputs": [],
   "source": [
    "df = pd.read_csv('cleaned salary data.csv')"
   ]
  },
  {
   "cell_type": "code",
   "execution_count": 4,
   "metadata": {},
   "outputs": [
    {
     "data": {
      "text/html": [
       "<div>\n",
       "<style scoped>\n",
       "    .dataframe tbody tr th:only-of-type {\n",
       "        vertical-align: middle;\n",
       "    }\n",
       "\n",
       "    .dataframe tbody tr th {\n",
       "        vertical-align: top;\n",
       "    }\n",
       "\n",
       "    .dataframe thead th {\n",
       "        text-align: right;\n",
       "    }\n",
       "</style>\n",
       "<table border=\"1\" class=\"dataframe\">\n",
       "  <thead>\n",
       "    <tr style=\"text-align: right;\">\n",
       "      <th></th>\n",
       "      <th>Job Title</th>\n",
       "      <th>Salary Estimate</th>\n",
       "      <th>Job Description</th>\n",
       "      <th>Rating</th>\n",
       "      <th>Company Name</th>\n",
       "      <th>Location</th>\n",
       "      <th>Headquarters</th>\n",
       "      <th>Size</th>\n",
       "      <th>Founded</th>\n",
       "      <th>Type of ownership</th>\n",
       "      <th>...</th>\n",
       "      <th>spark</th>\n",
       "      <th>tensor_flow</th>\n",
       "      <th>sas</th>\n",
       "      <th>spss</th>\n",
       "      <th>java</th>\n",
       "      <th>cpp</th>\n",
       "      <th>csharp</th>\n",
       "      <th>net</th>\n",
       "      <th>devops</th>\n",
       "      <th>aws</th>\n",
       "    </tr>\n",
       "  </thead>\n",
       "  <tbody>\n",
       "    <tr>\n",
       "      <td>0</td>\n",
       "      <td>Software Developer - Intermediate</td>\n",
       "      <td>$65K-$82K (Glassdoor est.)</td>\n",
       "      <td>Job ID: 3613\\n\\nPosition Description:\\n\\nSRC, ...</td>\n",
       "      <td>4.1</td>\n",
       "      <td>SRC\\n</td>\n",
       "      <td>Aberdeen, MD</td>\n",
       "      <td>Syracuse, NY</td>\n",
       "      <td>1001 to 5000 employees</td>\n",
       "      <td>1957</td>\n",
       "      <td>Nonprofit Organization</td>\n",
       "      <td>...</td>\n",
       "      <td>0</td>\n",
       "      <td>0</td>\n",
       "      <td>0</td>\n",
       "      <td>0</td>\n",
       "      <td>0</td>\n",
       "      <td>0</td>\n",
       "      <td>0</td>\n",
       "      <td>0</td>\n",
       "      <td>0</td>\n",
       "      <td>0</td>\n",
       "    </tr>\n",
       "    <tr>\n",
       "      <td>1</td>\n",
       "      <td>SharePoint/.Net Developer</td>\n",
       "      <td>$111K-$139K (Glassdoor est.)</td>\n",
       "      <td>Job Title: SharePoint/.Net Developer\\nLocation...</td>\n",
       "      <td>3.7</td>\n",
       "      <td>22nd Century Technologies\\n</td>\n",
       "      <td>Aberdeen, MD</td>\n",
       "      <td>Somerset, NJ</td>\n",
       "      <td>1001 to 5000 employees</td>\n",
       "      <td>1997</td>\n",
       "      <td>Company - Private</td>\n",
       "      <td>...</td>\n",
       "      <td>0</td>\n",
       "      <td>0</td>\n",
       "      <td>0</td>\n",
       "      <td>0</td>\n",
       "      <td>1</td>\n",
       "      <td>0</td>\n",
       "      <td>1</td>\n",
       "      <td>1</td>\n",
       "      <td>0</td>\n",
       "      <td>0</td>\n",
       "    </tr>\n",
       "    <tr>\n",
       "      <td>2</td>\n",
       "      <td>Software Engineer</td>\n",
       "      <td>$52K-$86K (Glassdoor est.)</td>\n",
       "      <td>Overview\\n\\nSOS International LLC (SOSi), is s...</td>\n",
       "      <td>3.2</td>\n",
       "      <td>SOSi\\n</td>\n",
       "      <td>Aberdeen, MD</td>\n",
       "      <td>Reston, VA</td>\n",
       "      <td>501 to 1000 employees</td>\n",
       "      <td>1989</td>\n",
       "      <td>Company - Private</td>\n",
       "      <td>...</td>\n",
       "      <td>0</td>\n",
       "      <td>0</td>\n",
       "      <td>0</td>\n",
       "      <td>0</td>\n",
       "      <td>0</td>\n",
       "      <td>0</td>\n",
       "      <td>0</td>\n",
       "      <td>0</td>\n",
       "      <td>0</td>\n",
       "      <td>0</td>\n",
       "    </tr>\n",
       "    <tr>\n",
       "      <td>3</td>\n",
       "      <td>Software Engineer</td>\n",
       "      <td>$50K-$64K (Glassdoor est.)</td>\n",
       "      <td>Overview\\n\\nSOS International LLC (SOSi), is s...</td>\n",
       "      <td>3.2</td>\n",
       "      <td>SOSi\\n</td>\n",
       "      <td>Aberdeen, MD</td>\n",
       "      <td>Reston, VA</td>\n",
       "      <td>501 to 1000 employees</td>\n",
       "      <td>1989</td>\n",
       "      <td>Company - Private</td>\n",
       "      <td>...</td>\n",
       "      <td>0</td>\n",
       "      <td>0</td>\n",
       "      <td>0</td>\n",
       "      <td>0</td>\n",
       "      <td>0</td>\n",
       "      <td>0</td>\n",
       "      <td>0</td>\n",
       "      <td>0</td>\n",
       "      <td>0</td>\n",
       "      <td>0</td>\n",
       "    </tr>\n",
       "    <tr>\n",
       "      <td>4</td>\n",
       "      <td>Computer Vision Software Engineer</td>\n",
       "      <td>$92K-$127K (Glassdoor est.)</td>\n",
       "      <td>We are actively recruiting for this role, with...</td>\n",
       "      <td>5.0</td>\n",
       "      <td>Alaant Workforce Solutions\\n</td>\n",
       "      <td>Albany, NY</td>\n",
       "      <td>Albany, NY</td>\n",
       "      <td>51 to 200 employees</td>\n",
       "      <td>2018</td>\n",
       "      <td>Company - Private</td>\n",
       "      <td>...</td>\n",
       "      <td>0</td>\n",
       "      <td>0</td>\n",
       "      <td>0</td>\n",
       "      <td>0</td>\n",
       "      <td>0</td>\n",
       "      <td>1</td>\n",
       "      <td>0</td>\n",
       "      <td>0</td>\n",
       "      <td>0</td>\n",
       "      <td>0</td>\n",
       "    </tr>\n",
       "  </tbody>\n",
       "</table>\n",
       "<p>5 rows × 33 columns</p>\n",
       "</div>"
      ],
      "text/plain": [
       "                           Job Title               Salary Estimate  \\\n",
       "0  Software Developer - Intermediate    $65K-$82K (Glassdoor est.)   \n",
       "1          SharePoint/.Net Developer  $111K-$139K (Glassdoor est.)   \n",
       "2                  Software Engineer    $52K-$86K (Glassdoor est.)   \n",
       "3                  Software Engineer    $50K-$64K (Glassdoor est.)   \n",
       "4  Computer Vision Software Engineer   $92K-$127K (Glassdoor est.)   \n",
       "\n",
       "                                     Job Description  Rating  \\\n",
       "0  Job ID: 3613\\n\\nPosition Description:\\n\\nSRC, ...     4.1   \n",
       "1  Job Title: SharePoint/.Net Developer\\nLocation...     3.7   \n",
       "2  Overview\\n\\nSOS International LLC (SOSi), is s...     3.2   \n",
       "3  Overview\\n\\nSOS International LLC (SOSi), is s...     3.2   \n",
       "4  We are actively recruiting for this role, with...     5.0   \n",
       "\n",
       "                   Company Name      Location  Headquarters  \\\n",
       "0                         SRC\\n  Aberdeen, MD  Syracuse, NY   \n",
       "1   22nd Century Technologies\\n  Aberdeen, MD  Somerset, NJ   \n",
       "2                        SOSi\\n  Aberdeen, MD    Reston, VA   \n",
       "3                        SOSi\\n  Aberdeen, MD    Reston, VA   \n",
       "4  Alaant Workforce Solutions\\n    Albany, NY    Albany, NY   \n",
       "\n",
       "                     Size  Founded       Type of ownership  ... spark  \\\n",
       "0  1001 to 5000 employees     1957  Nonprofit Organization  ...     0   \n",
       "1  1001 to 5000 employees     1997       Company - Private  ...     0   \n",
       "2   501 to 1000 employees     1989       Company - Private  ...     0   \n",
       "3   501 to 1000 employees     1989       Company - Private  ...     0   \n",
       "4     51 to 200 employees     2018       Company - Private  ...     0   \n",
       "\n",
       "  tensor_flow sas spss  java  cpp  csharp net  devops  aws  \n",
       "0           0   0    0     0    0       0   0       0    0  \n",
       "1           0   0    0     1    0       1   1       0    0  \n",
       "2           0   0    0     0    0       0   0       0    0  \n",
       "3           0   0    0     0    0       0   0       0    0  \n",
       "4           0   0    0     0    1       0   0       0    0  \n",
       "\n",
       "[5 rows x 33 columns]"
      ]
     },
     "execution_count": 4,
     "metadata": {},
     "output_type": "execute_result"
    }
   ],
   "source": [
    "df.head()"
   ]
  },
  {
   "cell_type": "markdown",
   "metadata": {},
   "source": [
    "Now, here's for the fun part:\n",
    "What insights can we draw from the data?\n",
    "\n",
    "\n",
    "We start with the continous data:"
   ]
  },
  {
   "cell_type": "code",
   "execution_count": 5,
   "metadata": {},
   "outputs": [
    {
     "data": {
      "text/html": [
       "<div>\n",
       "<style scoped>\n",
       "    .dataframe tbody tr th:only-of-type {\n",
       "        vertical-align: middle;\n",
       "    }\n",
       "\n",
       "    .dataframe tbody tr th {\n",
       "        vertical-align: top;\n",
       "    }\n",
       "\n",
       "    .dataframe thead th {\n",
       "        text-align: right;\n",
       "    }\n",
       "</style>\n",
       "<table border=\"1\" class=\"dataframe\">\n",
       "  <thead>\n",
       "    <tr style=\"text-align: right;\">\n",
       "      <th></th>\n",
       "      <th>Rating</th>\n",
       "      <th>Founded</th>\n",
       "      <th>min_salary</th>\n",
       "      <th>max_salary</th>\n",
       "      <th>avg_salary</th>\n",
       "      <th>age</th>\n",
       "      <th>same_state</th>\n",
       "      <th>python</th>\n",
       "      <th>r_studio</th>\n",
       "      <th>spark</th>\n",
       "      <th>tensor_flow</th>\n",
       "      <th>sas</th>\n",
       "      <th>spss</th>\n",
       "      <th>java</th>\n",
       "      <th>cpp</th>\n",
       "      <th>csharp</th>\n",
       "      <th>net</th>\n",
       "      <th>devops</th>\n",
       "      <th>aws</th>\n",
       "    </tr>\n",
       "  </thead>\n",
       "  <tbody>\n",
       "    <tr>\n",
       "      <td>count</td>\n",
       "      <td>1003.000000</td>\n",
       "      <td>1003.000000</td>\n",
       "      <td>1003.00000</td>\n",
       "      <td>1003.000000</td>\n",
       "      <td>1003.000000</td>\n",
       "      <td>1003.000000</td>\n",
       "      <td>1003.000000</td>\n",
       "      <td>1003.000000</td>\n",
       "      <td>1003.000000</td>\n",
       "      <td>1003.00000</td>\n",
       "      <td>1003.000000</td>\n",
       "      <td>1003.000000</td>\n",
       "      <td>1003.000000</td>\n",
       "      <td>1003.000000</td>\n",
       "      <td>1003.000000</td>\n",
       "      <td>1003.000000</td>\n",
       "      <td>1003.000000</td>\n",
       "      <td>1003.00000</td>\n",
       "      <td>1003.000000</td>\n",
       "    </tr>\n",
       "    <tr>\n",
       "      <td>mean</td>\n",
       "      <td>3.724626</td>\n",
       "      <td>1809.085743</td>\n",
       "      <td>82.84347</td>\n",
       "      <td>116.942173</td>\n",
       "      <td>99.892822</td>\n",
       "      <td>33.510469</td>\n",
       "      <td>0.504487</td>\n",
       "      <td>0.418744</td>\n",
       "      <td>0.000997</td>\n",
       "      <td>0.10668</td>\n",
       "      <td>0.002991</td>\n",
       "      <td>0.077767</td>\n",
       "      <td>0.009970</td>\n",
       "      <td>0.504487</td>\n",
       "      <td>0.229312</td>\n",
       "      <td>0.193420</td>\n",
       "      <td>0.169492</td>\n",
       "      <td>0.09671</td>\n",
       "      <td>0.235294</td>\n",
       "    </tr>\n",
       "    <tr>\n",
       "      <td>std</td>\n",
       "      <td>1.091256</td>\n",
       "      <td>562.600904</td>\n",
       "      <td>29.87827</td>\n",
       "      <td>38.379456</td>\n",
       "      <td>32.726887</td>\n",
       "      <td>34.808496</td>\n",
       "      <td>0.500229</td>\n",
       "      <td>0.493599</td>\n",
       "      <td>0.031575</td>\n",
       "      <td>0.30886</td>\n",
       "      <td>0.054636</td>\n",
       "      <td>0.267938</td>\n",
       "      <td>0.099401</td>\n",
       "      <td>0.500229</td>\n",
       "      <td>0.420600</td>\n",
       "      <td>0.395176</td>\n",
       "      <td>0.375373</td>\n",
       "      <td>0.29571</td>\n",
       "      <td>0.424394</td>\n",
       "    </tr>\n",
       "    <tr>\n",
       "      <td>min</td>\n",
       "      <td>-1.000000</td>\n",
       "      <td>-1.000000</td>\n",
       "      <td>35.00000</td>\n",
       "      <td>37.000000</td>\n",
       "      <td>36.000000</td>\n",
       "      <td>-1.000000</td>\n",
       "      <td>0.000000</td>\n",
       "      <td>0.000000</td>\n",
       "      <td>0.000000</td>\n",
       "      <td>0.00000</td>\n",
       "      <td>0.000000</td>\n",
       "      <td>0.000000</td>\n",
       "      <td>0.000000</td>\n",
       "      <td>0.000000</td>\n",
       "      <td>0.000000</td>\n",
       "      <td>0.000000</td>\n",
       "      <td>0.000000</td>\n",
       "      <td>0.00000</td>\n",
       "      <td>0.000000</td>\n",
       "    </tr>\n",
       "    <tr>\n",
       "      <td>25%</td>\n",
       "      <td>3.500000</td>\n",
       "      <td>1962.000000</td>\n",
       "      <td>63.00000</td>\n",
       "      <td>91.000000</td>\n",
       "      <td>76.000000</td>\n",
       "      <td>10.000000</td>\n",
       "      <td>0.000000</td>\n",
       "      <td>0.000000</td>\n",
       "      <td>0.000000</td>\n",
       "      <td>0.00000</td>\n",
       "      <td>0.000000</td>\n",
       "      <td>0.000000</td>\n",
       "      <td>0.000000</td>\n",
       "      <td>0.000000</td>\n",
       "      <td>0.000000</td>\n",
       "      <td>0.000000</td>\n",
       "      <td>0.000000</td>\n",
       "      <td>0.00000</td>\n",
       "      <td>0.000000</td>\n",
       "    </tr>\n",
       "    <tr>\n",
       "      <td>50%</td>\n",
       "      <td>3.800000</td>\n",
       "      <td>1992.000000</td>\n",
       "      <td>77.00000</td>\n",
       "      <td>112.000000</td>\n",
       "      <td>93.000000</td>\n",
       "      <td>22.000000</td>\n",
       "      <td>1.000000</td>\n",
       "      <td>0.000000</td>\n",
       "      <td>0.000000</td>\n",
       "      <td>0.00000</td>\n",
       "      <td>0.000000</td>\n",
       "      <td>0.000000</td>\n",
       "      <td>0.000000</td>\n",
       "      <td>1.000000</td>\n",
       "      <td>0.000000</td>\n",
       "      <td>0.000000</td>\n",
       "      <td>0.000000</td>\n",
       "      <td>0.00000</td>\n",
       "      <td>0.000000</td>\n",
       "    </tr>\n",
       "    <tr>\n",
       "      <td>75%</td>\n",
       "      <td>4.300000</td>\n",
       "      <td>2005.000000</td>\n",
       "      <td>97.00000</td>\n",
       "      <td>137.000000</td>\n",
       "      <td>114.500000</td>\n",
       "      <td>50.000000</td>\n",
       "      <td>1.000000</td>\n",
       "      <td>1.000000</td>\n",
       "      <td>0.000000</td>\n",
       "      <td>0.00000</td>\n",
       "      <td>0.000000</td>\n",
       "      <td>0.000000</td>\n",
       "      <td>0.000000</td>\n",
       "      <td>1.000000</td>\n",
       "      <td>0.000000</td>\n",
       "      <td>0.000000</td>\n",
       "      <td>0.000000</td>\n",
       "      <td>0.00000</td>\n",
       "      <td>0.000000</td>\n",
       "    </tr>\n",
       "    <tr>\n",
       "      <td>max</td>\n",
       "      <td>5.000000</td>\n",
       "      <td>2020.000000</td>\n",
       "      <td>212.00000</td>\n",
       "      <td>332.000000</td>\n",
       "      <td>272.000000</td>\n",
       "      <td>214.000000</td>\n",
       "      <td>1.000000</td>\n",
       "      <td>1.000000</td>\n",
       "      <td>1.000000</td>\n",
       "      <td>1.00000</td>\n",
       "      <td>1.000000</td>\n",
       "      <td>1.000000</td>\n",
       "      <td>1.000000</td>\n",
       "      <td>1.000000</td>\n",
       "      <td>1.000000</td>\n",
       "      <td>1.000000</td>\n",
       "      <td>1.000000</td>\n",
       "      <td>1.00000</td>\n",
       "      <td>1.000000</td>\n",
       "    </tr>\n",
       "  </tbody>\n",
       "</table>\n",
       "</div>"
      ],
      "text/plain": [
       "            Rating      Founded  min_salary   max_salary   avg_salary  \\\n",
       "count  1003.000000  1003.000000  1003.00000  1003.000000  1003.000000   \n",
       "mean      3.724626  1809.085743    82.84347   116.942173    99.892822   \n",
       "std       1.091256   562.600904    29.87827    38.379456    32.726887   \n",
       "min      -1.000000    -1.000000    35.00000    37.000000    36.000000   \n",
       "25%       3.500000  1962.000000    63.00000    91.000000    76.000000   \n",
       "50%       3.800000  1992.000000    77.00000   112.000000    93.000000   \n",
       "75%       4.300000  2005.000000    97.00000   137.000000   114.500000   \n",
       "max       5.000000  2020.000000   212.00000   332.000000   272.000000   \n",
       "\n",
       "               age   same_state       python     r_studio       spark  \\\n",
       "count  1003.000000  1003.000000  1003.000000  1003.000000  1003.00000   \n",
       "mean     33.510469     0.504487     0.418744     0.000997     0.10668   \n",
       "std      34.808496     0.500229     0.493599     0.031575     0.30886   \n",
       "min      -1.000000     0.000000     0.000000     0.000000     0.00000   \n",
       "25%      10.000000     0.000000     0.000000     0.000000     0.00000   \n",
       "50%      22.000000     1.000000     0.000000     0.000000     0.00000   \n",
       "75%      50.000000     1.000000     1.000000     0.000000     0.00000   \n",
       "max     214.000000     1.000000     1.000000     1.000000     1.00000   \n",
       "\n",
       "       tensor_flow          sas         spss         java          cpp  \\\n",
       "count  1003.000000  1003.000000  1003.000000  1003.000000  1003.000000   \n",
       "mean      0.002991     0.077767     0.009970     0.504487     0.229312   \n",
       "std       0.054636     0.267938     0.099401     0.500229     0.420600   \n",
       "min       0.000000     0.000000     0.000000     0.000000     0.000000   \n",
       "25%       0.000000     0.000000     0.000000     0.000000     0.000000   \n",
       "50%       0.000000     0.000000     0.000000     1.000000     0.000000   \n",
       "75%       0.000000     0.000000     0.000000     1.000000     0.000000   \n",
       "max       1.000000     1.000000     1.000000     1.000000     1.000000   \n",
       "\n",
       "            csharp          net      devops          aws  \n",
       "count  1003.000000  1003.000000  1003.00000  1003.000000  \n",
       "mean      0.193420     0.169492     0.09671     0.235294  \n",
       "std       0.395176     0.375373     0.29571     0.424394  \n",
       "min       0.000000     0.000000     0.00000     0.000000  \n",
       "25%       0.000000     0.000000     0.00000     0.000000  \n",
       "50%       0.000000     0.000000     0.00000     0.000000  \n",
       "75%       0.000000     0.000000     0.00000     0.000000  \n",
       "max       1.000000     1.000000     1.00000     1.000000  "
      ]
     },
     "execution_count": 5,
     "metadata": {},
     "output_type": "execute_result"
    }
   ],
   "source": [
    "df.describe()"
   ]
  },
  {
   "cell_type": "code",
   "execution_count": 6,
   "metadata": {},
   "outputs": [
    {
     "data": {
      "text/html": [
       "<div>\n",
       "<style scoped>\n",
       "    .dataframe tbody tr th:only-of-type {\n",
       "        vertical-align: middle;\n",
       "    }\n",
       "\n",
       "    .dataframe tbody tr th {\n",
       "        vertical-align: top;\n",
       "    }\n",
       "\n",
       "    .dataframe thead th {\n",
       "        text-align: right;\n",
       "    }\n",
       "</style>\n",
       "<table border=\"1\" class=\"dataframe\">\n",
       "  <thead>\n",
       "    <tr style=\"text-align: right;\">\n",
       "      <th></th>\n",
       "      <th>Rating</th>\n",
       "      <th>Founded</th>\n",
       "      <th>min_salary</th>\n",
       "      <th>max_salary</th>\n",
       "      <th>avg_salary</th>\n",
       "      <th>age</th>\n",
       "      <th>same_state</th>\n",
       "      <th>python</th>\n",
       "      <th>r_studio</th>\n",
       "      <th>spark</th>\n",
       "      <th>tensor_flow</th>\n",
       "      <th>sas</th>\n",
       "      <th>spss</th>\n",
       "      <th>java</th>\n",
       "      <th>cpp</th>\n",
       "      <th>csharp</th>\n",
       "      <th>net</th>\n",
       "      <th>devops</th>\n",
       "      <th>aws</th>\n",
       "    </tr>\n",
       "  </thead>\n",
       "  <tbody>\n",
       "    <tr>\n",
       "      <td>Rating</td>\n",
       "      <td>1.000000</td>\n",
       "      <td>0.368087</td>\n",
       "      <td>0.035337</td>\n",
       "      <td>0.034083</td>\n",
       "      <td>0.036116</td>\n",
       "      <td>0.030871</td>\n",
       "      <td>0.067169</td>\n",
       "      <td>0.079035</td>\n",
       "      <td>0.005079</td>\n",
       "      <td>-0.000104</td>\n",
       "      <td>-0.076562</td>\n",
       "      <td>0.012558</td>\n",
       "      <td>0.017055</td>\n",
       "      <td>-0.005413</td>\n",
       "      <td>0.064440</td>\n",
       "      <td>-0.019156</td>\n",
       "      <td>-0.032614</td>\n",
       "      <td>-0.091510</td>\n",
       "      <td>0.020662</td>\n",
       "    </tr>\n",
       "    <tr>\n",
       "      <td>Founded</td>\n",
       "      <td>0.368087</td>\n",
       "      <td>1.000000</td>\n",
       "      <td>0.030134</td>\n",
       "      <td>0.032086</td>\n",
       "      <td>0.032569</td>\n",
       "      <td>0.251069</td>\n",
       "      <td>0.063742</td>\n",
       "      <td>-0.037329</td>\n",
       "      <td>0.008928</td>\n",
       "      <td>-0.051962</td>\n",
       "      <td>-0.055464</td>\n",
       "      <td>-0.005407</td>\n",
       "      <td>0.027985</td>\n",
       "      <td>0.009478</td>\n",
       "      <td>0.027588</td>\n",
       "      <td>0.027604</td>\n",
       "      <td>0.024784</td>\n",
       "      <td>0.029794</td>\n",
       "      <td>-0.050230</td>\n",
       "    </tr>\n",
       "    <tr>\n",
       "      <td>min_salary</td>\n",
       "      <td>0.035337</td>\n",
       "      <td>0.030134</td>\n",
       "      <td>1.000000</td>\n",
       "      <td>0.836524</td>\n",
       "      <td>0.946983</td>\n",
       "      <td>-0.055858</td>\n",
       "      <td>-0.055208</td>\n",
       "      <td>0.126595</td>\n",
       "      <td>-0.036859</td>\n",
       "      <td>0.109418</td>\n",
       "      <td>0.008235</td>\n",
       "      <td>-0.002966</td>\n",
       "      <td>0.066053</td>\n",
       "      <td>-0.113369</td>\n",
       "      <td>-0.067742</td>\n",
       "      <td>-0.128025</td>\n",
       "      <td>-0.128083</td>\n",
       "      <td>-0.050697</td>\n",
       "      <td>-0.013857</td>\n",
       "    </tr>\n",
       "    <tr>\n",
       "      <td>max_salary</td>\n",
       "      <td>0.034083</td>\n",
       "      <td>0.032086</td>\n",
       "      <td>0.836524</td>\n",
       "      <td>1.000000</td>\n",
       "      <td>0.968215</td>\n",
       "      <td>-0.079161</td>\n",
       "      <td>-0.036219</td>\n",
       "      <td>0.136987</td>\n",
       "      <td>-0.012305</td>\n",
       "      <td>0.087239</td>\n",
       "      <td>0.023404</td>\n",
       "      <td>0.023827</td>\n",
       "      <td>0.068430</td>\n",
       "      <td>-0.097507</td>\n",
       "      <td>-0.053955</td>\n",
       "      <td>-0.123431</td>\n",
       "      <td>-0.129000</td>\n",
       "      <td>-0.015335</td>\n",
       "      <td>-0.012766</td>\n",
       "    </tr>\n",
       "    <tr>\n",
       "      <td>avg_salary</td>\n",
       "      <td>0.036116</td>\n",
       "      <td>0.032569</td>\n",
       "      <td>0.946983</td>\n",
       "      <td>0.968215</td>\n",
       "      <td>1.000000</td>\n",
       "      <td>-0.071915</td>\n",
       "      <td>-0.046439</td>\n",
       "      <td>0.138112</td>\n",
       "      <td>-0.024041</td>\n",
       "      <td>0.101100</td>\n",
       "      <td>0.017482</td>\n",
       "      <td>0.012617</td>\n",
       "      <td>0.070276</td>\n",
       "      <td>-0.108925</td>\n",
       "      <td>-0.062559</td>\n",
       "      <td>-0.130816</td>\n",
       "      <td>-0.134108</td>\n",
       "      <td>-0.032134</td>\n",
       "      <td>-0.013811</td>\n",
       "    </tr>\n",
       "    <tr>\n",
       "      <td>age</td>\n",
       "      <td>0.030871</td>\n",
       "      <td>0.251069</td>\n",
       "      <td>-0.055858</td>\n",
       "      <td>-0.079161</td>\n",
       "      <td>-0.071915</td>\n",
       "      <td>1.000000</td>\n",
       "      <td>-0.057333</td>\n",
       "      <td>-0.001591</td>\n",
       "      <td>0.016789</td>\n",
       "      <td>-0.025864</td>\n",
       "      <td>0.114646</td>\n",
       "      <td>0.053523</td>\n",
       "      <td>0.059389</td>\n",
       "      <td>0.008466</td>\n",
       "      <td>-0.007663</td>\n",
       "      <td>-0.002977</td>\n",
       "      <td>0.049664</td>\n",
       "      <td>0.010615</td>\n",
       "      <td>-0.047931</td>\n",
       "    </tr>\n",
       "    <tr>\n",
       "      <td>same_state</td>\n",
       "      <td>0.067169</td>\n",
       "      <td>0.063742</td>\n",
       "      <td>-0.055208</td>\n",
       "      <td>-0.036219</td>\n",
       "      <td>-0.046439</td>\n",
       "      <td>-0.057333</td>\n",
       "      <td>1.000000</td>\n",
       "      <td>-0.072287</td>\n",
       "      <td>0.031309</td>\n",
       "      <td>-0.045088</td>\n",
       "      <td>-0.055266</td>\n",
       "      <td>-0.032390</td>\n",
       "      <td>-0.020972</td>\n",
       "      <td>-0.025008</td>\n",
       "      <td>0.033053</td>\n",
       "      <td>0.046092</td>\n",
       "      <td>0.017206</td>\n",
       "      <td>-0.019803</td>\n",
       "      <td>-0.033184</td>\n",
       "    </tr>\n",
       "    <tr>\n",
       "      <td>python</td>\n",
       "      <td>0.079035</td>\n",
       "      <td>-0.037329</td>\n",
       "      <td>0.126595</td>\n",
       "      <td>0.136987</td>\n",
       "      <td>0.138112</td>\n",
       "      <td>-0.001591</td>\n",
       "      <td>-0.072287</td>\n",
       "      <td>1.000000</td>\n",
       "      <td>0.037220</td>\n",
       "      <td>0.243486</td>\n",
       "      <td>0.064531</td>\n",
       "      <td>0.017643</td>\n",
       "      <td>0.118232</td>\n",
       "      <td>-0.027826</td>\n",
       "      <td>0.195598</td>\n",
       "      <td>-0.144469</td>\n",
       "      <td>-0.221845</td>\n",
       "      <td>0.016286</td>\n",
       "      <td>0.086596</td>\n",
       "    </tr>\n",
       "    <tr>\n",
       "      <td>r_studio</td>\n",
       "      <td>0.005079</td>\n",
       "      <td>0.008928</td>\n",
       "      <td>-0.036859</td>\n",
       "      <td>-0.012305</td>\n",
       "      <td>-0.024041</td>\n",
       "      <td>0.016789</td>\n",
       "      <td>0.031309</td>\n",
       "      <td>0.037220</td>\n",
       "      <td>1.000000</td>\n",
       "      <td>-0.010917</td>\n",
       "      <td>-0.001730</td>\n",
       "      <td>-0.009174</td>\n",
       "      <td>-0.003170</td>\n",
       "      <td>0.031309</td>\n",
       "      <td>-0.017232</td>\n",
       "      <td>-0.015470</td>\n",
       "      <td>0.069930</td>\n",
       "      <td>0.096548</td>\n",
       "      <td>-0.017524</td>\n",
       "    </tr>\n",
       "    <tr>\n",
       "      <td>spark</td>\n",
       "      <td>-0.000104</td>\n",
       "      <td>-0.051962</td>\n",
       "      <td>0.109418</td>\n",
       "      <td>0.087239</td>\n",
       "      <td>0.101100</td>\n",
       "      <td>-0.025864</td>\n",
       "      <td>-0.045088</td>\n",
       "      <td>0.243486</td>\n",
       "      <td>-0.010917</td>\n",
       "      <td>1.000000</td>\n",
       "      <td>-0.018928</td>\n",
       "      <td>0.044367</td>\n",
       "      <td>0.127858</td>\n",
       "      <td>-0.012790</td>\n",
       "      <td>-0.057898</td>\n",
       "      <td>-0.071104</td>\n",
       "      <td>-0.104465</td>\n",
       "      <td>-0.025656</td>\n",
       "      <td>0.105250</td>\n",
       "    </tr>\n",
       "    <tr>\n",
       "      <td>tensor_flow</td>\n",
       "      <td>-0.076562</td>\n",
       "      <td>-0.055464</td>\n",
       "      <td>0.008235</td>\n",
       "      <td>0.023404</td>\n",
       "      <td>0.017482</td>\n",
       "      <td>0.114646</td>\n",
       "      <td>-0.055266</td>\n",
       "      <td>0.064531</td>\n",
       "      <td>-0.001730</td>\n",
       "      <td>-0.018928</td>\n",
       "      <td>1.000000</td>\n",
       "      <td>-0.015905</td>\n",
       "      <td>-0.005496</td>\n",
       "      <td>-0.055266</td>\n",
       "      <td>-0.029877</td>\n",
       "      <td>-0.026822</td>\n",
       "      <td>-0.024744</td>\n",
       "      <td>-0.017922</td>\n",
       "      <td>-0.030382</td>\n",
       "    </tr>\n",
       "    <tr>\n",
       "      <td>sas</td>\n",
       "      <td>0.012558</td>\n",
       "      <td>-0.005407</td>\n",
       "      <td>-0.002966</td>\n",
       "      <td>0.023827</td>\n",
       "      <td>0.012617</td>\n",
       "      <td>0.053523</td>\n",
       "      <td>-0.032390</td>\n",
       "      <td>0.017643</td>\n",
       "      <td>-0.009174</td>\n",
       "      <td>0.044367</td>\n",
       "      <td>-0.015905</td>\n",
       "      <td>1.000000</td>\n",
       "      <td>0.308108</td>\n",
       "      <td>-0.002606</td>\n",
       "      <td>-0.096408</td>\n",
       "      <td>-0.029094</td>\n",
       "      <td>-0.041878</td>\n",
       "      <td>-0.006844</td>\n",
       "      <td>-0.011874</td>\n",
       "    </tr>\n",
       "    <tr>\n",
       "      <td>spss</td>\n",
       "      <td>0.017055</td>\n",
       "      <td>0.027985</td>\n",
       "      <td>0.066053</td>\n",
       "      <td>0.068430</td>\n",
       "      <td>0.070276</td>\n",
       "      <td>0.059389</td>\n",
       "      <td>-0.020972</td>\n",
       "      <td>0.118232</td>\n",
       "      <td>-0.003170</td>\n",
       "      <td>0.127858</td>\n",
       "      <td>-0.005496</td>\n",
       "      <td>0.308108</td>\n",
       "      <td>1.000000</td>\n",
       "      <td>0.019171</td>\n",
       "      <td>-0.030868</td>\n",
       "      <td>-0.049142</td>\n",
       "      <td>-0.045334</td>\n",
       "      <td>0.035070</td>\n",
       "      <td>-0.055665</td>\n",
       "    </tr>\n",
       "    <tr>\n",
       "      <td>java</td>\n",
       "      <td>-0.005413</td>\n",
       "      <td>0.009478</td>\n",
       "      <td>-0.113369</td>\n",
       "      <td>-0.097507</td>\n",
       "      <td>-0.108925</td>\n",
       "      <td>0.008466</td>\n",
       "      <td>-0.025008</td>\n",
       "      <td>-0.027826</td>\n",
       "      <td>0.031309</td>\n",
       "      <td>-0.012790</td>\n",
       "      <td>-0.055266</td>\n",
       "      <td>-0.002606</td>\n",
       "      <td>0.019171</td>\n",
       "      <td>1.000000</td>\n",
       "      <td>0.014079</td>\n",
       "      <td>0.177356</td>\n",
       "      <td>0.150080</td>\n",
       "      <td>0.108386</td>\n",
       "      <td>0.126652</td>\n",
       "    </tr>\n",
       "    <tr>\n",
       "      <td>cpp</td>\n",
       "      <td>0.064440</td>\n",
       "      <td>0.027588</td>\n",
       "      <td>-0.067742</td>\n",
       "      <td>-0.053955</td>\n",
       "      <td>-0.062559</td>\n",
       "      <td>-0.007663</td>\n",
       "      <td>0.033053</td>\n",
       "      <td>0.195598</td>\n",
       "      <td>-0.017232</td>\n",
       "      <td>-0.057898</td>\n",
       "      <td>-0.029877</td>\n",
       "      <td>-0.096408</td>\n",
       "      <td>-0.030868</td>\n",
       "      <td>0.014079</td>\n",
       "      <td>1.000000</td>\n",
       "      <td>0.069132</td>\n",
       "      <td>-0.082069</td>\n",
       "      <td>-0.042073</td>\n",
       "      <td>-0.129252</td>\n",
       "    </tr>\n",
       "    <tr>\n",
       "      <td>csharp</td>\n",
       "      <td>-0.019156</td>\n",
       "      <td>0.027604</td>\n",
       "      <td>-0.128025</td>\n",
       "      <td>-0.123431</td>\n",
       "      <td>-0.130816</td>\n",
       "      <td>-0.002977</td>\n",
       "      <td>0.046092</td>\n",
       "      <td>-0.144469</td>\n",
       "      <td>-0.015470</td>\n",
       "      <td>-0.071104</td>\n",
       "      <td>-0.026822</td>\n",
       "      <td>-0.029094</td>\n",
       "      <td>-0.049142</td>\n",
       "      <td>0.177356</td>\n",
       "      <td>0.069132</td>\n",
       "      <td>1.000000</td>\n",
       "      <td>0.660131</td>\n",
       "      <td>0.087439</td>\n",
       "      <td>0.025903</td>\n",
       "    </tr>\n",
       "    <tr>\n",
       "      <td>net</td>\n",
       "      <td>-0.032614</td>\n",
       "      <td>0.024784</td>\n",
       "      <td>-0.128083</td>\n",
       "      <td>-0.129000</td>\n",
       "      <td>-0.134108</td>\n",
       "      <td>0.049664</td>\n",
       "      <td>0.017206</td>\n",
       "      <td>-0.221845</td>\n",
       "      <td>0.069930</td>\n",
       "      <td>-0.104465</td>\n",
       "      <td>-0.024744</td>\n",
       "      <td>-0.041878</td>\n",
       "      <td>-0.045334</td>\n",
       "      <td>0.150080</td>\n",
       "      <td>-0.082069</td>\n",
       "      <td>0.660131</td>\n",
       "      <td>1.000000</td>\n",
       "      <td>0.139893</td>\n",
       "      <td>-0.018794</td>\n",
       "    </tr>\n",
       "    <tr>\n",
       "      <td>devops</td>\n",
       "      <td>-0.091510</td>\n",
       "      <td>0.029794</td>\n",
       "      <td>-0.050697</td>\n",
       "      <td>-0.015335</td>\n",
       "      <td>-0.032134</td>\n",
       "      <td>0.010615</td>\n",
       "      <td>-0.019803</td>\n",
       "      <td>0.016286</td>\n",
       "      <td>0.096548</td>\n",
       "      <td>-0.025656</td>\n",
       "      <td>-0.017922</td>\n",
       "      <td>-0.006844</td>\n",
       "      <td>0.035070</td>\n",
       "      <td>0.108386</td>\n",
       "      <td>-0.042073</td>\n",
       "      <td>0.087439</td>\n",
       "      <td>0.139893</td>\n",
       "      <td>1.000000</td>\n",
       "      <td>0.104784</td>\n",
       "    </tr>\n",
       "    <tr>\n",
       "      <td>aws</td>\n",
       "      <td>0.020662</td>\n",
       "      <td>-0.050230</td>\n",
       "      <td>-0.013857</td>\n",
       "      <td>-0.012766</td>\n",
       "      <td>-0.013811</td>\n",
       "      <td>-0.047931</td>\n",
       "      <td>-0.033184</td>\n",
       "      <td>0.086596</td>\n",
       "      <td>-0.017524</td>\n",
       "      <td>0.105250</td>\n",
       "      <td>-0.030382</td>\n",
       "      <td>-0.011874</td>\n",
       "      <td>-0.055665</td>\n",
       "      <td>0.126652</td>\n",
       "      <td>-0.129252</td>\n",
       "      <td>0.025903</td>\n",
       "      <td>-0.018794</td>\n",
       "      <td>0.104784</td>\n",
       "      <td>1.000000</td>\n",
       "    </tr>\n",
       "  </tbody>\n",
       "</table>\n",
       "</div>"
      ],
      "text/plain": [
       "               Rating   Founded  min_salary  max_salary  avg_salary       age  \\\n",
       "Rating       1.000000  0.368087    0.035337    0.034083    0.036116  0.030871   \n",
       "Founded      0.368087  1.000000    0.030134    0.032086    0.032569  0.251069   \n",
       "min_salary   0.035337  0.030134    1.000000    0.836524    0.946983 -0.055858   \n",
       "max_salary   0.034083  0.032086    0.836524    1.000000    0.968215 -0.079161   \n",
       "avg_salary   0.036116  0.032569    0.946983    0.968215    1.000000 -0.071915   \n",
       "age          0.030871  0.251069   -0.055858   -0.079161   -0.071915  1.000000   \n",
       "same_state   0.067169  0.063742   -0.055208   -0.036219   -0.046439 -0.057333   \n",
       "python       0.079035 -0.037329    0.126595    0.136987    0.138112 -0.001591   \n",
       "r_studio     0.005079  0.008928   -0.036859   -0.012305   -0.024041  0.016789   \n",
       "spark       -0.000104 -0.051962    0.109418    0.087239    0.101100 -0.025864   \n",
       "tensor_flow -0.076562 -0.055464    0.008235    0.023404    0.017482  0.114646   \n",
       "sas          0.012558 -0.005407   -0.002966    0.023827    0.012617  0.053523   \n",
       "spss         0.017055  0.027985    0.066053    0.068430    0.070276  0.059389   \n",
       "java        -0.005413  0.009478   -0.113369   -0.097507   -0.108925  0.008466   \n",
       "cpp          0.064440  0.027588   -0.067742   -0.053955   -0.062559 -0.007663   \n",
       "csharp      -0.019156  0.027604   -0.128025   -0.123431   -0.130816 -0.002977   \n",
       "net         -0.032614  0.024784   -0.128083   -0.129000   -0.134108  0.049664   \n",
       "devops      -0.091510  0.029794   -0.050697   -0.015335   -0.032134  0.010615   \n",
       "aws          0.020662 -0.050230   -0.013857   -0.012766   -0.013811 -0.047931   \n",
       "\n",
       "             same_state    python  r_studio     spark  tensor_flow       sas  \\\n",
       "Rating         0.067169  0.079035  0.005079 -0.000104    -0.076562  0.012558   \n",
       "Founded        0.063742 -0.037329  0.008928 -0.051962    -0.055464 -0.005407   \n",
       "min_salary    -0.055208  0.126595 -0.036859  0.109418     0.008235 -0.002966   \n",
       "max_salary    -0.036219  0.136987 -0.012305  0.087239     0.023404  0.023827   \n",
       "avg_salary    -0.046439  0.138112 -0.024041  0.101100     0.017482  0.012617   \n",
       "age           -0.057333 -0.001591  0.016789 -0.025864     0.114646  0.053523   \n",
       "same_state     1.000000 -0.072287  0.031309 -0.045088    -0.055266 -0.032390   \n",
       "python        -0.072287  1.000000  0.037220  0.243486     0.064531  0.017643   \n",
       "r_studio       0.031309  0.037220  1.000000 -0.010917    -0.001730 -0.009174   \n",
       "spark         -0.045088  0.243486 -0.010917  1.000000    -0.018928  0.044367   \n",
       "tensor_flow   -0.055266  0.064531 -0.001730 -0.018928     1.000000 -0.015905   \n",
       "sas           -0.032390  0.017643 -0.009174  0.044367    -0.015905  1.000000   \n",
       "spss          -0.020972  0.118232 -0.003170  0.127858    -0.005496  0.308108   \n",
       "java          -0.025008 -0.027826  0.031309 -0.012790    -0.055266 -0.002606   \n",
       "cpp            0.033053  0.195598 -0.017232 -0.057898    -0.029877 -0.096408   \n",
       "csharp         0.046092 -0.144469 -0.015470 -0.071104    -0.026822 -0.029094   \n",
       "net            0.017206 -0.221845  0.069930 -0.104465    -0.024744 -0.041878   \n",
       "devops        -0.019803  0.016286  0.096548 -0.025656    -0.017922 -0.006844   \n",
       "aws           -0.033184  0.086596 -0.017524  0.105250    -0.030382 -0.011874   \n",
       "\n",
       "                 spss      java       cpp    csharp       net    devops  \\\n",
       "Rating       0.017055 -0.005413  0.064440 -0.019156 -0.032614 -0.091510   \n",
       "Founded      0.027985  0.009478  0.027588  0.027604  0.024784  0.029794   \n",
       "min_salary   0.066053 -0.113369 -0.067742 -0.128025 -0.128083 -0.050697   \n",
       "max_salary   0.068430 -0.097507 -0.053955 -0.123431 -0.129000 -0.015335   \n",
       "avg_salary   0.070276 -0.108925 -0.062559 -0.130816 -0.134108 -0.032134   \n",
       "age          0.059389  0.008466 -0.007663 -0.002977  0.049664  0.010615   \n",
       "same_state  -0.020972 -0.025008  0.033053  0.046092  0.017206 -0.019803   \n",
       "python       0.118232 -0.027826  0.195598 -0.144469 -0.221845  0.016286   \n",
       "r_studio    -0.003170  0.031309 -0.017232 -0.015470  0.069930  0.096548   \n",
       "spark        0.127858 -0.012790 -0.057898 -0.071104 -0.104465 -0.025656   \n",
       "tensor_flow -0.005496 -0.055266 -0.029877 -0.026822 -0.024744 -0.017922   \n",
       "sas          0.308108 -0.002606 -0.096408 -0.029094 -0.041878 -0.006844   \n",
       "spss         1.000000  0.019171 -0.030868 -0.049142 -0.045334  0.035070   \n",
       "java         0.019171  1.000000  0.014079  0.177356  0.150080  0.108386   \n",
       "cpp         -0.030868  0.014079  1.000000  0.069132 -0.082069 -0.042073   \n",
       "csharp      -0.049142  0.177356  0.069132  1.000000  0.660131  0.087439   \n",
       "net         -0.045334  0.150080 -0.082069  0.660131  1.000000  0.139893   \n",
       "devops       0.035070  0.108386 -0.042073  0.087439  0.139893  1.000000   \n",
       "aws         -0.055665  0.126652 -0.129252  0.025903 -0.018794  0.104784   \n",
       "\n",
       "                  aws  \n",
       "Rating       0.020662  \n",
       "Founded     -0.050230  \n",
       "min_salary  -0.013857  \n",
       "max_salary  -0.012766  \n",
       "avg_salary  -0.013811  \n",
       "age         -0.047931  \n",
       "same_state  -0.033184  \n",
       "python       0.086596  \n",
       "r_studio    -0.017524  \n",
       "spark        0.105250  \n",
       "tensor_flow -0.030382  \n",
       "sas         -0.011874  \n",
       "spss        -0.055665  \n",
       "java         0.126652  \n",
       "cpp         -0.129252  \n",
       "csharp       0.025903  \n",
       "net         -0.018794  \n",
       "devops       0.104784  \n",
       "aws          1.000000  "
      ]
     },
     "execution_count": 6,
     "metadata": {},
     "output_type": "execute_result"
    }
   ],
   "source": [
    "df.corr()"
   ]
  },
  {
   "cell_type": "markdown",
   "metadata": {},
   "source": [
    "From this chart we can see quite a few weak correlations. Notably, Python has a slight postive correlation with average salary, while Java, C#, and .NET have a slightly negative correlation to average salary. This is some what indicative of Python's present popularity, but it is hard to tell from this representation alone."
   ]
  },
  {
   "cell_type": "markdown",
   "metadata": {},
   "source": [
    "How else could we classify data from the list? If a decision-tree model is selected, the more nodes the better..."
   ]
  },
  {
   "cell_type": "markdown",
   "metadata": {},
   "source": [
    "We could parse seniority from the description using words like: \"Senior\", \"Lead\", \"Chief\", and \"Principal\""
   ]
  },
  {
   "cell_type": "markdown",
   "metadata": {},
   "source": [
    "We can try and deliniate between different Computer-Science-oriented roles: Data Scientist, Analyst, Web Developer (Front-End/Back-End/Full Stack), Mobile Developer (iOS [Swift], Android), Software Engineer, etc."
   ]
  },
  {
   "cell_type": "markdown",
   "metadata": {},
   "source": [
    "Lastly, we can see if description length has any correlation to the other variables."
   ]
  },
  {
   "cell_type": "code",
   "execution_count": 7,
   "metadata": {},
   "outputs": [],
   "source": [
    "def seniority(title):\n",
    "    if ('senior' or 'sr' or 'lead' or 'chief' or 'principal' or 'head') in title.lower():\n",
    "        return 'sr'\n",
    "    elif ('junior' or 'jr' or 'entry') in title.lower():\n",
    "        return 'jr'\n",
    "    else:\n",
    "        return 'na'\n",
    "\n",
    "df['seniority'] = df['Job Title'].apply(seniority)"
   ]
  },
  {
   "cell_type": "code",
   "execution_count": 8,
   "metadata": {},
   "outputs": [
    {
     "data": {
      "text/plain": [
       "na    825\n",
       "sr    173\n",
       "jr      5\n",
       "Name: seniority, dtype: int64"
      ]
     },
     "execution_count": 8,
     "metadata": {},
     "output_type": "execute_result"
    }
   ],
   "source": [
    "df.seniority.value_counts()"
   ]
  },
  {
   "cell_type": "markdown",
   "metadata": {},
   "source": [
    "About 17% of job postings are Senior-level while less than 1% are Entry-level, that may explain our **mean salary of nearly 100k** from the describe method used earlier."
   ]
  },
  {
   "cell_type": "code",
   "execution_count": 9,
   "metadata": {},
   "outputs": [],
   "source": [
    "def job_category(title):\n",
    "    if ('data scientist' or 'data science') in title.lower():\n",
    "        return 'data_scientist'\n",
    "    elif ('data analyst' or 'analyst') in title.lower():\n",
    "        return 'data_analyst'\n",
    "    elif ('machine learning' or 'ML') in title.lower():\n",
    "        return 'ML_dev'\n",
    "    elif ('web' or 'stack' or 'front' or 'back') in title.lower():\n",
    "        return 'web_dev'\n",
    "    elif ('ios' or 'android' or 'mobile') in title.lower():\n",
    "        return 'mobile_dev'\n",
    "    elif ('software') in title.lower():\n",
    "        return 'software_dev'\n",
    "    else:\n",
    "        return 'na'\n",
    "\n",
    "df['job_cat'] = df['Job Title'].apply(job_category)"
   ]
  },
  {
   "cell_type": "code",
   "execution_count": 10,
   "metadata": {},
   "outputs": [
    {
     "data": {
      "text/plain": [
       "software_dev      522\n",
       "na                228\n",
       "data_scientist    184\n",
       "web_dev            21\n",
       "mobile_dev         19\n",
       "ML_dev             15\n",
       "data_analyst       14\n",
       "Name: job_cat, dtype: int64"
      ]
     },
     "execution_count": 10,
     "metadata": {},
     "output_type": "execute_result"
    }
   ],
   "source": [
    "df.job_cat.value_counts()"
   ]
  },
  {
   "cell_type": "markdown",
   "metadata": {},
   "source": [
    "We can see a majority of listings are for Software Developers/Engineers and only around 23% of the data could not be categorized based on the given parameters."
   ]
  },
  {
   "cell_type": "code",
   "execution_count": 21,
   "metadata": {},
   "outputs": [
    {
     "data": {
      "text/plain": [
       "0       1537\n",
       "1       3634\n",
       "2       2510\n",
       "3       2510\n",
       "4       2499\n",
       "        ... \n",
       "998     3423\n",
       "999     1780\n",
       "1000    3173\n",
       "1001    4401\n",
       "1002    3740\n",
       "Name: desc_length, Length: 1003, dtype: int64"
      ]
     },
     "execution_count": 21,
     "metadata": {},
     "output_type": "execute_result"
    }
   ],
   "source": [
    "df['desc_length'] = df['job_desc'].apply(lambda x: len(str(x)))\n",
    "df[\"desc_length\"]"
   ]
  },
  {
   "cell_type": "code",
   "execution_count": 28,
   "metadata": {},
   "outputs": [
    {
     "data": {
      "text/html": [
       "<div>\n",
       "<style scoped>\n",
       "    .dataframe tbody tr th:only-of-type {\n",
       "        vertical-align: middle;\n",
       "    }\n",
       "\n",
       "    .dataframe tbody tr th {\n",
       "        vertical-align: top;\n",
       "    }\n",
       "\n",
       "    .dataframe thead th {\n",
       "        text-align: right;\n",
       "    }\n",
       "</style>\n",
       "<table border=\"1\" class=\"dataframe\">\n",
       "  <thead>\n",
       "    <tr style=\"text-align: right;\">\n",
       "      <th></th>\n",
       "      <th>Rating</th>\n",
       "      <th>Founded</th>\n",
       "      <th>min_salary</th>\n",
       "      <th>max_salary</th>\n",
       "      <th>avg_salary</th>\n",
       "      <th>age</th>\n",
       "      <th>same_state</th>\n",
       "      <th>python</th>\n",
       "      <th>r_studio</th>\n",
       "      <th>spark</th>\n",
       "      <th>tensor_flow</th>\n",
       "      <th>sas</th>\n",
       "      <th>spss</th>\n",
       "      <th>java</th>\n",
       "      <th>cpp</th>\n",
       "      <th>csharp</th>\n",
       "      <th>net</th>\n",
       "      <th>devops</th>\n",
       "      <th>aws</th>\n",
       "      <th>desc_length</th>\n",
       "    </tr>\n",
       "  </thead>\n",
       "  <tbody>\n",
       "    <tr>\n",
       "      <td>count</td>\n",
       "      <td>1003.000000</td>\n",
       "      <td>1003.000000</td>\n",
       "      <td>1003.00000</td>\n",
       "      <td>1003.000000</td>\n",
       "      <td>1003.000000</td>\n",
       "      <td>1003.000000</td>\n",
       "      <td>1003.000000</td>\n",
       "      <td>1003.000000</td>\n",
       "      <td>1003.000000</td>\n",
       "      <td>1003.00000</td>\n",
       "      <td>1003.000000</td>\n",
       "      <td>1003.000000</td>\n",
       "      <td>1003.000000</td>\n",
       "      <td>1003.000000</td>\n",
       "      <td>1003.000000</td>\n",
       "      <td>1003.000000</td>\n",
       "      <td>1003.000000</td>\n",
       "      <td>1003.00000</td>\n",
       "      <td>1003.000000</td>\n",
       "      <td>1003.000000</td>\n",
       "    </tr>\n",
       "    <tr>\n",
       "      <td>mean</td>\n",
       "      <td>3.724626</td>\n",
       "      <td>1809.085743</td>\n",
       "      <td>82.84347</td>\n",
       "      <td>116.942173</td>\n",
       "      <td>99.892822</td>\n",
       "      <td>33.510469</td>\n",
       "      <td>0.504487</td>\n",
       "      <td>0.418744</td>\n",
       "      <td>0.000997</td>\n",
       "      <td>0.10668</td>\n",
       "      <td>0.002991</td>\n",
       "      <td>0.077767</td>\n",
       "      <td>0.009970</td>\n",
       "      <td>0.504487</td>\n",
       "      <td>0.229312</td>\n",
       "      <td>0.193420</td>\n",
       "      <td>0.169492</td>\n",
       "      <td>0.09671</td>\n",
       "      <td>0.235294</td>\n",
       "      <td>3494.702891</td>\n",
       "    </tr>\n",
       "    <tr>\n",
       "      <td>std</td>\n",
       "      <td>1.091256</td>\n",
       "      <td>562.600904</td>\n",
       "      <td>29.87827</td>\n",
       "      <td>38.379456</td>\n",
       "      <td>32.726887</td>\n",
       "      <td>34.808496</td>\n",
       "      <td>0.500229</td>\n",
       "      <td>0.493599</td>\n",
       "      <td>0.031575</td>\n",
       "      <td>0.30886</td>\n",
       "      <td>0.054636</td>\n",
       "      <td>0.267938</td>\n",
       "      <td>0.099401</td>\n",
       "      <td>0.500229</td>\n",
       "      <td>0.420600</td>\n",
       "      <td>0.395176</td>\n",
       "      <td>0.375373</td>\n",
       "      <td>0.29571</td>\n",
       "      <td>0.424394</td>\n",
       "      <td>1568.353280</td>\n",
       "    </tr>\n",
       "    <tr>\n",
       "      <td>min</td>\n",
       "      <td>-1.000000</td>\n",
       "      <td>-1.000000</td>\n",
       "      <td>35.00000</td>\n",
       "      <td>37.000000</td>\n",
       "      <td>36.000000</td>\n",
       "      <td>-1.000000</td>\n",
       "      <td>0.000000</td>\n",
       "      <td>0.000000</td>\n",
       "      <td>0.000000</td>\n",
       "      <td>0.00000</td>\n",
       "      <td>0.000000</td>\n",
       "      <td>0.000000</td>\n",
       "      <td>0.000000</td>\n",
       "      <td>0.000000</td>\n",
       "      <td>0.000000</td>\n",
       "      <td>0.000000</td>\n",
       "      <td>0.000000</td>\n",
       "      <td>0.00000</td>\n",
       "      <td>0.000000</td>\n",
       "      <td>3.000000</td>\n",
       "    </tr>\n",
       "    <tr>\n",
       "      <td>25%</td>\n",
       "      <td>3.500000</td>\n",
       "      <td>1962.000000</td>\n",
       "      <td>63.00000</td>\n",
       "      <td>91.000000</td>\n",
       "      <td>76.000000</td>\n",
       "      <td>10.000000</td>\n",
       "      <td>0.000000</td>\n",
       "      <td>0.000000</td>\n",
       "      <td>0.000000</td>\n",
       "      <td>0.00000</td>\n",
       "      <td>0.000000</td>\n",
       "      <td>0.000000</td>\n",
       "      <td>0.000000</td>\n",
       "      <td>0.000000</td>\n",
       "      <td>0.000000</td>\n",
       "      <td>0.000000</td>\n",
       "      <td>0.000000</td>\n",
       "      <td>0.00000</td>\n",
       "      <td>0.000000</td>\n",
       "      <td>2481.500000</td>\n",
       "    </tr>\n",
       "    <tr>\n",
       "      <td>50%</td>\n",
       "      <td>3.800000</td>\n",
       "      <td>1992.000000</td>\n",
       "      <td>77.00000</td>\n",
       "      <td>112.000000</td>\n",
       "      <td>93.000000</td>\n",
       "      <td>22.000000</td>\n",
       "      <td>1.000000</td>\n",
       "      <td>0.000000</td>\n",
       "      <td>0.000000</td>\n",
       "      <td>0.00000</td>\n",
       "      <td>0.000000</td>\n",
       "      <td>0.000000</td>\n",
       "      <td>0.000000</td>\n",
       "      <td>1.000000</td>\n",
       "      <td>0.000000</td>\n",
       "      <td>0.000000</td>\n",
       "      <td>0.000000</td>\n",
       "      <td>0.00000</td>\n",
       "      <td>0.000000</td>\n",
       "      <td>3341.000000</td>\n",
       "    </tr>\n",
       "    <tr>\n",
       "      <td>75%</td>\n",
       "      <td>4.300000</td>\n",
       "      <td>2005.000000</td>\n",
       "      <td>97.00000</td>\n",
       "      <td>137.000000</td>\n",
       "      <td>114.500000</td>\n",
       "      <td>50.000000</td>\n",
       "      <td>1.000000</td>\n",
       "      <td>1.000000</td>\n",
       "      <td>0.000000</td>\n",
       "      <td>0.00000</td>\n",
       "      <td>0.000000</td>\n",
       "      <td>0.000000</td>\n",
       "      <td>0.000000</td>\n",
       "      <td>1.000000</td>\n",
       "      <td>0.000000</td>\n",
       "      <td>0.000000</td>\n",
       "      <td>0.000000</td>\n",
       "      <td>0.00000</td>\n",
       "      <td>0.000000</td>\n",
       "      <td>4357.000000</td>\n",
       "    </tr>\n",
       "    <tr>\n",
       "      <td>max</td>\n",
       "      <td>5.000000</td>\n",
       "      <td>2020.000000</td>\n",
       "      <td>212.00000</td>\n",
       "      <td>332.000000</td>\n",
       "      <td>272.000000</td>\n",
       "      <td>214.000000</td>\n",
       "      <td>1.000000</td>\n",
       "      <td>1.000000</td>\n",
       "      <td>1.000000</td>\n",
       "      <td>1.00000</td>\n",
       "      <td>1.000000</td>\n",
       "      <td>1.000000</td>\n",
       "      <td>1.000000</td>\n",
       "      <td>1.000000</td>\n",
       "      <td>1.000000</td>\n",
       "      <td>1.000000</td>\n",
       "      <td>1.000000</td>\n",
       "      <td>1.00000</td>\n",
       "      <td>1.000000</td>\n",
       "      <td>14837.000000</td>\n",
       "    </tr>\n",
       "  </tbody>\n",
       "</table>\n",
       "</div>"
      ],
      "text/plain": [
       "            Rating      Founded  min_salary   max_salary   avg_salary  \\\n",
       "count  1003.000000  1003.000000  1003.00000  1003.000000  1003.000000   \n",
       "mean      3.724626  1809.085743    82.84347   116.942173    99.892822   \n",
       "std       1.091256   562.600904    29.87827    38.379456    32.726887   \n",
       "min      -1.000000    -1.000000    35.00000    37.000000    36.000000   \n",
       "25%       3.500000  1962.000000    63.00000    91.000000    76.000000   \n",
       "50%       3.800000  1992.000000    77.00000   112.000000    93.000000   \n",
       "75%       4.300000  2005.000000    97.00000   137.000000   114.500000   \n",
       "max       5.000000  2020.000000   212.00000   332.000000   272.000000   \n",
       "\n",
       "               age   same_state       python     r_studio       spark  \\\n",
       "count  1003.000000  1003.000000  1003.000000  1003.000000  1003.00000   \n",
       "mean     33.510469     0.504487     0.418744     0.000997     0.10668   \n",
       "std      34.808496     0.500229     0.493599     0.031575     0.30886   \n",
       "min      -1.000000     0.000000     0.000000     0.000000     0.00000   \n",
       "25%      10.000000     0.000000     0.000000     0.000000     0.00000   \n",
       "50%      22.000000     1.000000     0.000000     0.000000     0.00000   \n",
       "75%      50.000000     1.000000     1.000000     0.000000     0.00000   \n",
       "max     214.000000     1.000000     1.000000     1.000000     1.00000   \n",
       "\n",
       "       tensor_flow          sas         spss         java          cpp  \\\n",
       "count  1003.000000  1003.000000  1003.000000  1003.000000  1003.000000   \n",
       "mean      0.002991     0.077767     0.009970     0.504487     0.229312   \n",
       "std       0.054636     0.267938     0.099401     0.500229     0.420600   \n",
       "min       0.000000     0.000000     0.000000     0.000000     0.000000   \n",
       "25%       0.000000     0.000000     0.000000     0.000000     0.000000   \n",
       "50%       0.000000     0.000000     0.000000     1.000000     0.000000   \n",
       "75%       0.000000     0.000000     0.000000     1.000000     0.000000   \n",
       "max       1.000000     1.000000     1.000000     1.000000     1.000000   \n",
       "\n",
       "            csharp          net      devops          aws   desc_length  \n",
       "count  1003.000000  1003.000000  1003.00000  1003.000000   1003.000000  \n",
       "mean      0.193420     0.169492     0.09671     0.235294   3494.702891  \n",
       "std       0.395176     0.375373     0.29571     0.424394   1568.353280  \n",
       "min       0.000000     0.000000     0.00000     0.000000      3.000000  \n",
       "25%       0.000000     0.000000     0.00000     0.000000   2481.500000  \n",
       "50%       0.000000     0.000000     0.00000     0.000000   3341.000000  \n",
       "75%       0.000000     0.000000     0.00000     0.000000   4357.000000  \n",
       "max       1.000000     1.000000     1.00000     1.000000  14837.000000  "
      ]
     },
     "execution_count": 28,
     "metadata": {},
     "output_type": "execute_result"
    }
   ],
   "source": [
    "df.describe()"
   ]
  },
  {
   "cell_type": "markdown",
   "metadata": {},
   "source": [
    "Let's take a closer look at a few data points."
   ]
  },
  {
   "cell_type": "code",
   "execution_count": 24,
   "metadata": {},
   "outputs": [
    {
     "data": {
      "text/plain": [
       "<matplotlib.axes._subplots.AxesSubplot at 0x2876bc00288>"
      ]
     },
     "execution_count": 24,
     "metadata": {},
     "output_type": "execute_result"
    },
    {
     "data": {
      "image/png": "[encoded data removed]",
      "text/plain": [
       "<Figure size 432x288 with 1 Axes>"
      ]
     },
     "metadata": {
      "needs_background": "light"
     },
     "output_type": "display_data"
    }
   ],
   "source": [
    "df.Rating.hist()"
   ]
  },
  {
   "cell_type": "code",
   "execution_count": 26,
   "metadata": {},
   "outputs": [
    {
     "data": {
      "text/plain": [
       "<matplotlib.axes._subplots.AxesSubplot at 0x2876bcdde88>"
      ]
     },
     "execution_count": 26,
     "metadata": {},
     "output_type": "execute_result"
    },
    {
     "data": {
      "image/png": "[encoded data removed]",
      "text/plain": [
       "<Figure size 432x288 with 1 Axes>"
      ]
     },
     "metadata": {
      "needs_background": "light"
     },
     "output_type": "display_data"
    }
   ],
   "source": [
    "df.avg_salary.hist()"
   ]
  },
  {
   "cell_type": "code",
   "execution_count": 27,
   "metadata": {},
   "outputs": [
    {
     "data": {
      "text/plain": [
       "<matplotlib.axes._subplots.AxesSubplot at 0x2876bd35dc8>"
      ]
     },
     "execution_count": 27,
     "metadata": {},
     "output_type": "execute_result"
    },
    {
     "data": {
      "image/png": "[encoded data removed]",
      "text/plain": [
       "<Figure size 432x288 with 1 Axes>"
      ]
     },
     "metadata": {
      "needs_background": "light"
     },
     "output_type": "display_data"
    }
   ],
   "source": [
    "df.age.hist()"
   ]
  },
  {
   "cell_type": "code",
   "execution_count": 29,
   "metadata": {},
   "outputs": [
    {
     "data": {
      "text/plain": [
       "<matplotlib.axes._subplots.AxesSubplot at 0x2876bdb6ac8>"
      ]
     },
     "execution_count": 29,
     "metadata": {},
     "output_type": "execute_result"
    },
    {
     "data": {
      "image/png": "[encoded data removed]",
      "text/plain": [
       "<Figure size 432x288 with 1 Axes>"
      ]
     },
     "metadata": {
      "needs_background": "light"
     },
     "output_type": "display_data"
    }
   ],
   "source": [
    "df.boxplot(column = 'age')"
   ]
  },
  {
   "cell_type": "code",
   "execution_count": 30,
   "metadata": {},
   "outputs": [
    {
     "data": {
      "text/plain": [
       "<matplotlib.axes._subplots.AxesSubplot at 0x2876be5d1c8>"
      ]
     },
     "execution_count": 30,
     "metadata": {},
     "output_type": "execute_result"
    },
    {
     "data": {
      "image/png": "[encoded data removed]",
      "text/plain": [
       "<Figure size 432x288 with 1 Axes>"
      ]
     },
     "metadata": {
      "needs_background": "light"
     },
     "output_type": "display_data"
    }
   ],
   "source": [
    "df.boxplot(column = 'Rating')"
   ]
  },
  {
   "cell_type": "code",
   "execution_count": 31,
   "metadata": {},
   "outputs": [
    {
     "data": {
      "text/plain": [
       "<matplotlib.axes._subplots.AxesSubplot at 0x2876bebda88>"
      ]
     },
     "execution_count": 31,
     "metadata": {},
     "output_type": "execute_result"
    },
    {
     "data": {
      "image/png": "[encoded data removed]",
      "text/plain": [
       "<Figure size 432x288 with 1 Axes>"
      ]
     },
     "metadata": {
      "needs_background": "light"
     },
     "output_type": "display_data"
    }
   ],
   "source": [
    "df.boxplot(column = 'avg_salary')"
   ]
  },
  {
   "cell_type": "markdown",
   "metadata": {},
   "source": [
    "Now, our categorical data."
   ]
  },
  {
   "cell_type": "code",
   "execution_count": 32,
   "metadata": {},
   "outputs": [
    {
     "data": {
      "text/plain": [
       "Index(['Job Title', 'Salary Estimate', 'Job Description', 'Rating',\n",
       "       'Company Name', 'Location', 'Headquarters', 'Size', 'Founded',\n",
       "       'Type of ownership', 'Industry', 'Sector', 'Revenue', 'Competitors',\n",
       "       'min_salary', 'max_salary', 'avg_salary', 'state', 'age', 'same_state',\n",
       "       'job_desc', 'python', 'r_studio', 'spark', 'tensor_flow', 'sas', 'spss',\n",
       "       'java', 'cpp', 'csharp', 'net', 'devops', 'aws', 'seniority', 'job_cat',\n",
       "       'desc_length'],\n",
       "      dtype='object')"
      ]
     },
     "execution_count": 32,
     "metadata": {},
     "output_type": "execute_result"
    }
   ],
   "source": [
    "df.columns"
   ]
  },
  {
   "cell_type": "code",
   "execution_count": 35,
   "metadata": {},
   "outputs": [],
   "source": [
    "df_cat = df[['Rating', 'Size', 'Type of ownership', 'Sector', 'Revenue', 'python', 'r_studio', 'spark', 'tensor_flow', 'sas', 'spss',\n",
    "       'java', 'cpp', 'csharp', 'net', 'devops', 'aws', 'seniority', 'job_cat']]"
   ]
  },
  {
   "cell_type": "code",
   "execution_count": 36,
   "metadata": {},
   "outputs": [
    {
     "name": "stdout",
     "output_type": "stream",
     "text": [
      "Graph for: Rating \n",
      "Total: 35\n"
     ]
    },
    {
     "data": {
      "image/png": "[encoded data removed]",
      "text/plain": [
       "<Figure size 432x288 with 1 Axes>"
      ]
     },
     "metadata": {
      "needs_background": "light"
     },
     "output_type": "display_data"
    },
    {
     "name": "stdout",
     "output_type": "stream",
     "text": [
      "Graph for: Size \n",
      "Total: 9\n"
     ]
    },
    {
     "data": {
      "image/png": "[encoded data removed]",
      "text/plain": [
       "<Figure size 432x288 with 1 Axes>"
      ]
     },
     "metadata": {
      "needs_background": "light"
     },
     "output_type": "display_data"
    },
    {
     "name": "stdout",
     "output_type": "stream",
     "text": [
      "Graph for: Type of ownership \n",
      "Total: 12\n"
     ]
    },
    {
     "data": {
      "image/png": "[encoded data removed]",
      "text/plain": [
       "<Figure size 432x288 with 1 Axes>"
      ]
     },
     "metadata": {
      "needs_background": "light"
     },
     "output_type": "display_data"
    },
    {
     "name": "stdout",
     "output_type": "stream",
     "text": [
      "Graph for: Sector \n",
      "Total: 25\n"
     ]
    },
    {
     "data": {
      "image/png": "[encoded data removed]",
      "text/plain": [
       "<Figure size 432x288 with 1 Axes>"
      ]
     },
     "metadata": {
      "needs_background": "light"
     },
     "output_type": "display_data"
    },
    {
     "name": "stdout",
     "output_type": "stream",
     "text": [
      "Graph for: Revenue \n",
      "Total: 14\n"
     ]
    },
    {
     "data": {
      "image/png": "[encoded data removed]",
      "text/plain": [
       "<Figure size 432x288 with 1 Axes>"
      ]
     },
     "metadata": {
      "needs_background": "light"
     },
     "output_type": "display_data"
    },
    {
     "name": "stdout",
     "output_type": "stream",
     "text": [
      "Graph for: python \n",
      "Total: 2\n"
     ]
    },
    {
     "data": {
      "image/png": "[encoded data removed]",
      "text/plain": [
       "<Figure size 432x288 with 1 Axes>"
      ]
     },
     "metadata": {
      "needs_background": "light"
     },
     "output_type": "display_data"
    },
    {
     "name": "stdout",
     "output_type": "stream",
     "text": [
      "Graph for: r_studio \n",
      "Total: 2\n"
     ]
    },
    {
     "data": {
      "image/png": "[encoded data removed]",
      "text/plain": [
       "<Figure size 432x288 with 1 Axes>"
      ]
     },
     "metadata": {
      "needs_background": "light"
     },
     "output_type": "display_data"
    },
    {
     "name": "stdout",
     "output_type": "stream",
     "text": [
      "Graph for: spark \n",
      "Total: 2\n"
     ]
    },
    {
     "data": {
      "image/png": "[encoded data removed]",
      "text/plain": [
       "<Figure size 432x288 with 1 Axes>"
      ]
     },
     "metadata": {
      "needs_background": "light"
     },
     "output_type": "display_data"
    },
    {
     "name": "stdout",
     "output_type": "stream",
     "text": [
      "Graph for: tensor_flow \n",
      "Total: 2\n"
     ]
    },
    {
     "data": {
      "image/png": "[encoded data removed]",
      "text/plain": [
       "<Figure size 432x288 with 1 Axes>"
      ]
     },
     "metadata": {
      "needs_background": "light"
     },
     "output_type": "display_data"
    },
    {
     "name": "stdout",
     "output_type": "stream",
     "text": [
      "Graph for: sas \n",
      "Total: 2\n"
     ]
    },
    {
     "data": {
      "image/png": "[encoded data removed]",
      "text/plain": [
       "<Figure size 432x288 with 1 Axes>"
      ]
     },
     "metadata": {
      "needs_background": "light"
     },
     "output_type": "display_data"
    },
    {
     "name": "stdout",
     "output_type": "stream",
     "text": [
      "Graph for: spss \n",
      "Total: 2\n"
     ]
    },
    {
     "data": {
      "image/png": "[encoded data removed]",
      "text/plain": [
       "<Figure size 432x288 with 1 Axes>"
      ]
     },
     "metadata": {
      "needs_background": "light"
     },
     "output_type": "display_data"
    },
    {
     "name": "stdout",
     "output_type": "stream",
     "text": [
      "Graph for: java \n",
      "Total: 2\n"
     ]
    },
    {
     "data": {
      "image/png": "[encoded data removed]",
      "text/plain": [
       "<Figure size 432x288 with 1 Axes>"
      ]
     },
     "metadata": {
      "needs_background": "light"
     },
     "output_type": "display_data"
    },
    {
     "name": "stdout",
     "output_type": "stream",
     "text": [
      "Graph for: cpp \n",
      "Total: 2\n"
     ]
    },
    {
     "data": {
      "image/png": "[encoded data removed]",
      "text/plain": [
       "<Figure size 432x288 with 1 Axes>"
      ]
     },
     "metadata": {
      "needs_background": "light"
     },
     "output_type": "display_data"
    },
    {
     "name": "stdout",
     "output_type": "stream",
     "text": [
      "Graph for: csharp \n",
      "Total: 2\n"
     ]
    },
    {
     "data": {
      "image/png": "[encoded data removed]",
      "text/plain": [
       "<Figure size 432x288 with 1 Axes>"
      ]
     },
     "metadata": {
      "needs_background": "light"
     },
     "output_type": "display_data"
    },
    {
     "name": "stdout",
     "output_type": "stream",
     "text": [
      "Graph for: net \n",
      "Total: 2\n"
     ]
    },
    {
     "data": {
      "image/png": "[encoded data removed]",
      "text/plain": [
       "<Figure size 432x288 with 1 Axes>"
      ]
     },
     "metadata": {
      "needs_background": "light"
     },
     "output_type": "display_data"
    },
    {
     "name": "stdout",
     "output_type": "stream",
     "text": [
      "Graph for: devops \n",
      "Total: 2\n"
     ]
    },
    {
     "data": {
      "image/png": "[encoded data removed]",
      "text/plain": [
       "<Figure size 432x288 with 1 Axes>"
      ]
     },
     "metadata": {
      "needs_background": "light"
     },
     "output_type": "display_data"
    },
    {
     "name": "stdout",
     "output_type": "stream",
     "text": [
      "Graph for: aws \n",
      "Total: 2\n"
     ]
    },
    {
     "data": {
      "image/png": "[encoded data removed]",
      "text/plain": [
       "<Figure size 432x288 with 1 Axes>"
      ]
     },
     "metadata": {
      "needs_background": "light"
     },
     "output_type": "display_data"
    },
    {
     "name": "stdout",
     "output_type": "stream",
     "text": [
      "Graph for: seniority \n",
      "Total: 3\n"
     ]
    },
    {
     "data": {
      "image/png": "[encoded data removed]",
      "text/plain": [
       "<Figure size 432x288 with 1 Axes>"
      ]
     },
     "metadata": {
      "needs_background": "light"
     },
     "output_type": "display_data"
    },
    {
     "name": "stdout",
     "output_type": "stream",
     "text": [
      "Graph for: job_cat \n",
      "Total: 7\n"
     ]
    },
    {
     "data": {
      "image/png": "[encoded data removed]",
      "text/plain": [
       "<Figure size 432x288 with 1 Axes>"
      ]
     },
     "metadata": {
      "needs_background": "light"
     },
     "output_type": "display_data"
    }
   ],
   "source": [
    "for i in df_cat.columns:\n",
    "    cat_num = df_cat[i].value_counts()\n",
    "    print(f'Graph for: {i} \\nTotal: {len(cat_num)}')\n",
    "    chart = sns.barplot(x=cat_num.index, y=cat_num)\n",
    "    chart.set_xticklabels(chart.get_xticklabels(), rotation=90)\n",
    "    plt.show()\n",
    "         "
   ]
  },
  {
   "cell_type": "code",
   "execution_count": null,
   "metadata": {},
   "outputs": [],
   "source": []
  }
 ],
 "metadata": {
  "kernelspec": {
   "display_name": "Python 3",
   "language": "python",
   "name": "python3"
  },
  "language_info": {
   "codemirror_mode": {
    "name": "ipython",
    "version": 3
   },
   "file_extension": ".py",
   "mimetype": "text/x-python",
   "name": "python",
   "nbconvert_exporter": "python",
   "pygments_lexer": "ipython3",
   "version": "3.7.4"
  }
 },
 "nbformat": 4,
 "nbformat_minor": 2
}
